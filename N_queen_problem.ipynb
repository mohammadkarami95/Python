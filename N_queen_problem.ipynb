{
 "cells": [
  {
   "cell_type": "code",
   "execution_count": 1,
   "metadata": {},
   "outputs": [],
   "source": [
    "import numpy as np"
   ]
  },
  {
   "cell_type": "code",
   "execution_count": 2,
   "metadata": {},
   "outputs": [],
   "source": [
    "def matrix_size():\n",
    "    check= True\n",
    "    while check:\n",
    "        dim= int(input('Enter N: '))\n",
    "        if dim > 3:\n",
    "            check= False\n",
    "            continue\n",
    "        print ('N must be more than 3')\n",
    "        \n",
    "    return dim"
   ]
  },
  {
   "cell_type": "code",
   "execution_count": 3,
   "metadata": {},
   "outputs": [
    {
     "name": "stdout",
     "output_type": "stream",
     "text": [
      "Enter N: 5\n"
     ]
    }
   ],
   "source": [
    "dim= matrix_size()"
   ]
  },
  {
   "cell_type": "code",
   "execution_count": 4,
   "metadata": {},
   "outputs": [],
   "source": [
    "def N_queen_matrix(dim):\n",
    "    return np.zeros(shape= (dim, dim), dtype= int)"
   ]
  },
  {
   "cell_type": "code",
   "execution_count": 5,
   "metadata": {},
   "outputs": [],
   "source": [
    "N_queen_mat= N_queen_matrix(dim)"
   ]
  },
  {
   "cell_type": "code",
   "execution_count": 6,
   "metadata": {},
   "outputs": [],
   "source": [
    "def is_safe(N_queen_mat, row, col):\n",
    "    \n",
    "    # از مقدار سطر و ستونی که به عنوان پارامتر فرستاده ایم ، تا اولین ستون از آن سطر بررسی میکنیم، در صورتی که  مقادیر یکی از آن \n",
    "    #ستونها یک بود مقدار فالس را برگردان\n",
    "    # این بدان منظور هست که در یک سطر دو وزیر قرار ندهیم \n",
    "    #ما بررسی را از سطر و ستون  پارامتر \"رو، کال\" شروع میکنیم تا به ستون اولی برسیم. این کار باعث میشود که تعداد بررسی ها کم شده\n",
    "    #و سرعت اجرای بالاتری داشته باشیم  \n",
    "    for j in range(col, -1, -1):\n",
    "        if N_queen_mat[row, j] == 1:\n",
    "            return False\n",
    "        \n",
    "     #از مقدار پارامتر هایی که به عنوان سطر و ستون فرستاده شده شروع میکنیم و از ان نقطه رو به بالا به صورت مورب بررسی میکنیم\n",
    "    #درصورتی که وزیری در مسیر بررسی وجود داشت ، مقدار فالس را بر میگرداند\n",
    "    #حالت بهینه کردن قبلی را نیز لحاظ میکنیم. تا بررسی کمتری انجام شود    \n",
    "    for i, j in zip(range(row, -1, -1), range(col, -1, -1)):\n",
    "        if N_queen_mat[i, j] == 1:\n",
    "            return False\n",
    "    \n",
    "    #از مقدار پارامتر هایی که به عنوان سطر و ستون فرستاده شده شروع میکنیم و از ان نقطه رو به پایین به صورت مورب بررسی میکنیم\n",
    "    #درصورتی که وزیری در مسیر بررسی وجود داشت ، مقدار فالس را بر میگرداند\n",
    "    #حالت بهینه کردن قبلی را نیز لحاظ میکنیم. تا بررسی کمتری انجام شود   \n",
    "    for i, j in zip(range(row,len(N_queen_mat),1), range(col,-1,-1)):\n",
    "        if N_queen_mat[i,j] == 1:\n",
    "            return False\n",
    "        \n",
    "    return True"
   ]
  },
  {
   "cell_type": "code",
   "execution_count": 7,
   "metadata": {},
   "outputs": [],
   "source": [
    "def fill(N_queen_mat, j, check, specific_row= 0):\n",
    "    c= 0\n",
    "    for i in range(specific_row, len(N_queen_mat)):\n",
    "        if is_safe(N_queen_mat, i, j):\n",
    "            N_queen_mat[i, j]= 1\n",
    "#             check= 0\n",
    "            c= 1\n",
    "            break\n",
    "    if c is 0:\n",
    "        check= 1\n",
    "    else:\n",
    "        check= 0\n",
    "    return N_queen_mat, check\n",
    "            "
   ]
  },
  {
   "cell_type": "code",
   "execution_count": 8,
   "metadata": {},
   "outputs": [],
   "source": [
    "def fill_final(N_queen_mat):\n",
    "    col= len(N_queen_mat)\n",
    "    row= len(N_queen_mat)\n",
    "    check= 0\n",
    "    j= 0\n",
    "    while True:\n",
    "        if check is 0:\n",
    "            N_queen_mat, check= fill(N_queen_mat, j, check)\n",
    "\n",
    "        if check is 1 :\n",
    "            j= j - 1\n",
    "            print('j is: ', j)\n",
    "            find_one_row_index= np.where(N_queen_mat[:, j])[0][0]\n",
    "            print(find_one_row_index)\n",
    "            if find_one_row_index < len(N_queen_mat)-1:\n",
    "                N_queen_mat[find_one_row_index, j]= 0\n",
    "                \n",
    "                N_queen_mat, check= fill(N_queen_mat, j, check, find_one_row_index + 1)\n",
    "                if check is 1:\n",
    "                    j= j - 1\n",
    "            elif find_one_row_index == len(N_queen_mat)- 1:\n",
    "                print('\\nthis\\n')\n",
    "                N_queen_mat[find_one_row_index, j]= 0\n",
    "                j-= 1\n",
    "                find_one_row_index= np.where(N_queen_mat[:, j])[0][0]\n",
    "                N_queen_mat[find_one_row_index, j]= 0\n",
    "                \n",
    "                N_queen_mat, check= fill(N_queen_mat, j, check, find_one_row_index + 1)\n",
    "                if check is 1:\n",
    "                    j = j - 1\n",
    "        print(N_queen_mat)\n",
    "        print('\\n -------------------------------\\n')\n",
    "        j+= 1\n",
    "        if j >= len(N_queen_mat):\n",
    "            break\n",
    "    return N_queen_mat              \n",
    "            "
   ]
  },
  {
   "cell_type": "code",
   "execution_count": 9,
   "metadata": {},
   "outputs": [
    {
     "name": "stdout",
     "output_type": "stream",
     "text": [
      "[[1 0 0 0 0]\n",
      " [0 0 0 0 0]\n",
      " [0 0 0 0 0]\n",
      " [0 0 0 0 0]\n",
      " [0 0 0 0 0]]\n",
      "\n",
      " -------------------------------\n",
      "\n",
      "[[1 0 0 0 0]\n",
      " [0 0 0 0 0]\n",
      " [0 1 0 0 0]\n",
      " [0 0 0 0 0]\n",
      " [0 0 0 0 0]]\n",
      "\n",
      " -------------------------------\n",
      "\n",
      "[[1 0 0 0 0]\n",
      " [0 0 0 0 0]\n",
      " [0 1 0 0 0]\n",
      " [0 0 0 0 0]\n",
      " [0 0 1 0 0]]\n",
      "\n",
      " -------------------------------\n",
      "\n",
      "[[1 0 0 0 0]\n",
      " [0 0 0 1 0]\n",
      " [0 1 0 0 0]\n",
      " [0 0 0 0 0]\n",
      " [0 0 1 0 0]]\n",
      "\n",
      " -------------------------------\n",
      "\n",
      "[[1 0 0 0 0]\n",
      " [0 0 0 1 0]\n",
      " [0 1 0 0 0]\n",
      " [0 0 0 0 1]\n",
      " [0 0 1 0 0]]\n",
      "\n",
      " -------------------------------\n",
      "\n"
     ]
    },
    {
     "data": {
      "text/plain": [
       "array([[1, 0, 0, 0, 0],\n",
       "       [0, 0, 0, 1, 0],\n",
       "       [0, 1, 0, 0, 0],\n",
       "       [0, 0, 0, 0, 1],\n",
       "       [0, 0, 1, 0, 0]])"
      ]
     },
     "execution_count": 9,
     "metadata": {},
     "output_type": "execute_result"
    }
   ],
   "source": [
    "fill_final(N_queen_mat)"
   ]
  },
  {
   "cell_type": "code",
   "execution_count": null,
   "metadata": {},
   "outputs": [],
   "source": []
  }
 ],
 "metadata": {
  "kernelspec": {
   "display_name": "Python 3",
   "language": "python",
   "name": "python3"
  },
  "language_info": {
   "codemirror_mode": {
    "name": "ipython",
    "version": 3
   },
   "file_extension": ".py",
   "mimetype": "text/x-python",
   "name": "python",
   "nbconvert_exporter": "python",
   "pygments_lexer": "ipython3",
   "version": "3.7.0"
  }
 },
 "nbformat": 4,
 "nbformat_minor": 4
}
